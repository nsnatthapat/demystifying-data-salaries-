{
 "cells": [
  {
   "cell_type": "markdown",
   "id": "da3c5399-5721-4268-bed6-208259455eee",
   "metadata": {
    "collapsed": false,
    "jupyter": {
     "outputs_hidden": false,
     "source_hidden": false
    }
   },
   "source": [
    "# Tech Industry Salaries Data Analysis Report\n",
    "\n",
    "Exploring Salary Trends in the tech industry\n",
    "\n",
    "📅 Date: March 2025\n",
    "\n",
    "✍️ Author: Natthapat Sakulborrirug"
   ]
  },
  {
   "cell_type": "markdown",
   "id": "b5b8d40f-4b7a-4c25-bacc-afe725759783",
   "metadata": {},
   "source": [
    "## 1. Introduction\n",
    "\n",
    "## 2. Executive Summary"
   ]
  },
  {
   "cell_type": "markdown",
   "id": "2f5929b9-9d9a-457a-99ab-be05f27176f9",
   "metadata": {
    "jp-MarkdownHeadingCollapsed": true
   },
   "source": [
    "## 💾 The data\n",
    "\n",
    "The data comes from a survey hosted by an HR consultancy, available in `'salaries.csv'`.\n",
    "\n",
    "#### Each row represents a single employee's salary record for a given year:\n",
    "- **`work_year`** - The year the salary was paid.  \n",
    "- **`experience_level`** - Employee experience level:  \n",
    "  - **`EN`**: Entry-level / Junior  \n",
    "  - **`MI`**: Mid-level / Intermediate  \n",
    "  - **`SE`**: Senior / Expert  \n",
    "  - **`EX`**: Executive / Director  \n",
    "- **`employment_type`** - Employment type:  \n",
    "  - **`PT`**: Part-time  \n",
    "  - **`FT`**: Full-time  \n",
    "  - **`CT`**: Contract  \n",
    "  - **`FL`**: Freelance  \n",
    "- **`job_title`** - The job title during the year.  \n",
    "- **`salary`** - Gross salary paid (in local currency).  \n",
    "- **`salary_currency`** - Salary currency (ISO 4217 code).  \n",
    "- **`salary_in_usd`** - Salary converted to USD using average yearly FX rate.  \n",
    "- **`employee_residence`** - Employee's primary country of residence (ISO 3166 code).  \n",
    "- **`remote_ratio`** - Percentage of remote work:  \n",
    "  - **`0`**: No remote work (<20%)  \n",
    "  - **`50`**: Hybrid (50%)  \n",
    "  - **`100`**: Fully remote (>80%)  \n",
    "- **`company_location`** - Employer's main office location (ISO 3166 code).  \n",
    "- **`company_size`** - Company size:  \n",
    "  - **`S`**: Small (<50 employees)  \n",
    "  - **`M`**: Medium (50–250 employees)  \n",
    "  - **`L`**: Large (>250 employees)  "
   ]
  },
  {
   "cell_type": "markdown",
   "id": "624b9ccf-7cf6-4bce-980a-404060a92cc8",
   "metadata": {},
   "source": [
    "## 3. Import Libraries and Load Data"
   ]
  },
  {
   "cell_type": "code",
   "execution_count": 239,
   "id": "2b75957b-35e3-492e-b1ab-41780128ed18",
   "metadata": {
    "executionCancelledAt": null,
    "executionTime": null,
    "lastExecutedAt": null,
    "lastExecutedByKernel": null,
    "lastScheduledRunId": null,
    "lastSuccessfullyExecutedCode": null,
    "outputsMetadata": {
     "0": {
      "height": 395,
      "type": "stream"
     },
     "1": {
      "height": 50,
      "tableState": {
       "customFilter": {
        "const": {
         "type": "boolean",
         "valid": true,
         "value": true
        },
        "id": "e51ccfd1-a23d-4204-ba32-085768f75f64",
        "nodeType": "const"
       },
       "quickFilterText": ""
      },
      "type": "dataFrame"
     }
    }
   },
   "outputs": [
    {
     "name": "stdout",
     "output_type": "stream",
     "text": [
      "<class 'pandas.core.frame.DataFrame'>\n",
      "RangeIndex: 57194 entries, 0 to 57193\n",
      "Data columns (total 11 columns):\n",
      " #   Column              Non-Null Count  Dtype \n",
      "---  ------              --------------  ----- \n",
      " 0   work_year           57194 non-null  int64 \n",
      " 1   experience_level    57194 non-null  object\n",
      " 2   employment_type     57194 non-null  object\n",
      " 3   job_title           57194 non-null  object\n",
      " 4   salary              57194 non-null  int64 \n",
      " 5   salary_currency     57194 non-null  object\n",
      " 6   salary_in_usd       57194 non-null  int64 \n",
      " 7   employee_residence  57194 non-null  object\n",
      " 8   remote_ratio        57194 non-null  int64 \n",
      " 9   company_location    57194 non-null  object\n",
      " 10  company_size        57194 non-null  object\n",
      "dtypes: int64(4), object(7)\n",
      "memory usage: 4.8+ MB\n"
     ]
    },
    {
     "data": {
      "text/html": [
       "<div>\n",
       "<style scoped>\n",
       "    .dataframe tbody tr th:only-of-type {\n",
       "        vertical-align: middle;\n",
       "    }\n",
       "\n",
       "    .dataframe tbody tr th {\n",
       "        vertical-align: top;\n",
       "    }\n",
       "\n",
       "    .dataframe thead th {\n",
       "        text-align: right;\n",
       "    }\n",
       "</style>\n",
       "<table border=\"1\" class=\"dataframe\">\n",
       "  <thead>\n",
       "    <tr style=\"text-align: right;\">\n",
       "      <th></th>\n",
       "      <th>work_year</th>\n",
       "      <th>experience_level</th>\n",
       "      <th>employment_type</th>\n",
       "      <th>job_title</th>\n",
       "      <th>salary</th>\n",
       "      <th>salary_currency</th>\n",
       "      <th>salary_in_usd</th>\n",
       "      <th>employee_residence</th>\n",
       "      <th>remote_ratio</th>\n",
       "      <th>company_location</th>\n",
       "      <th>company_size</th>\n",
       "    </tr>\n",
       "  </thead>\n",
       "  <tbody>\n",
       "    <tr>\n",
       "      <th>0</th>\n",
       "      <td>2024</td>\n",
       "      <td>MI</td>\n",
       "      <td>FT</td>\n",
       "      <td>Developer</td>\n",
       "      <td>168276</td>\n",
       "      <td>USD</td>\n",
       "      <td>168276</td>\n",
       "      <td>US</td>\n",
       "      <td>0</td>\n",
       "      <td>US</td>\n",
       "      <td>M</td>\n",
       "    </tr>\n",
       "    <tr>\n",
       "      <th>1</th>\n",
       "      <td>2024</td>\n",
       "      <td>MI</td>\n",
       "      <td>FT</td>\n",
       "      <td>Developer</td>\n",
       "      <td>112184</td>\n",
       "      <td>USD</td>\n",
       "      <td>112184</td>\n",
       "      <td>US</td>\n",
       "      <td>0</td>\n",
       "      <td>US</td>\n",
       "      <td>M</td>\n",
       "    </tr>\n",
       "    <tr>\n",
       "      <th>2</th>\n",
       "      <td>2024</td>\n",
       "      <td>EN</td>\n",
       "      <td>FT</td>\n",
       "      <td>Developer</td>\n",
       "      <td>180000</td>\n",
       "      <td>USD</td>\n",
       "      <td>180000</td>\n",
       "      <td>US</td>\n",
       "      <td>0</td>\n",
       "      <td>US</td>\n",
       "      <td>M</td>\n",
       "    </tr>\n",
       "    <tr>\n",
       "      <th>3</th>\n",
       "      <td>2024</td>\n",
       "      <td>EN</td>\n",
       "      <td>FT</td>\n",
       "      <td>Developer</td>\n",
       "      <td>133500</td>\n",
       "      <td>USD</td>\n",
       "      <td>133500</td>\n",
       "      <td>US</td>\n",
       "      <td>0</td>\n",
       "      <td>US</td>\n",
       "      <td>M</td>\n",
       "    </tr>\n",
       "    <tr>\n",
       "      <th>4</th>\n",
       "      <td>2024</td>\n",
       "      <td>EN</td>\n",
       "      <td>FT</td>\n",
       "      <td>Developer</td>\n",
       "      <td>122000</td>\n",
       "      <td>USD</td>\n",
       "      <td>122000</td>\n",
       "      <td>US</td>\n",
       "      <td>0</td>\n",
       "      <td>US</td>\n",
       "      <td>M</td>\n",
       "    </tr>\n",
       "  </tbody>\n",
       "</table>\n",
       "</div>"
      ],
      "text/plain": [
       "   work_year experience_level employment_type  job_title  salary  \\\n",
       "0       2024               MI              FT  Developer  168276   \n",
       "1       2024               MI              FT  Developer  112184   \n",
       "2       2024               EN              FT  Developer  180000   \n",
       "3       2024               EN              FT  Developer  133500   \n",
       "4       2024               EN              FT  Developer  122000   \n",
       "\n",
       "  salary_currency  salary_in_usd employee_residence  remote_ratio  \\\n",
       "0             USD         168276                 US             0   \n",
       "1             USD         112184                 US             0   \n",
       "2             USD         180000                 US             0   \n",
       "3             USD         133500                 US             0   \n",
       "4             USD         122000                 US             0   \n",
       "\n",
       "  company_location company_size  \n",
       "0               US            M  \n",
       "1               US            M  \n",
       "2               US            M  \n",
       "3               US            M  \n",
       "4               US            M  "
      ]
     },
     "execution_count": 239,
     "metadata": {},
     "output_type": "execute_result"
    }
   ],
   "source": [
    "from IPython.display import display, Markdown\n",
    "import matplotlib.pyplot as plt\n",
    "import pandas as pd\n",
    "from thefuzz import process\n",
    "from sentence_transformers import SentenceTransformer\n",
    "import numpy as np\n",
    "from sklearn.feature_extraction.text import TfidfVectorizer\n",
    "from sklearn.cluster import KMeans\n",
    "\n",
    "salaries_df = pd.read_csv('salaries.csv')\n",
    "salaries_df.info()\n",
    "salaries_df.head()"
   ]
  },
  {
   "cell_type": "code",
   "execution_count": 6,
   "id": "47a713ea-ad15-4d4c-a790-2c2a5287cfcf",
   "metadata": {},
   "outputs": [
    {
     "data": {
      "text/html": [
       "<div>\n",
       "<style scoped>\n",
       "    .dataframe tbody tr th:only-of-type {\n",
       "        vertical-align: middle;\n",
       "    }\n",
       "\n",
       "    .dataframe tbody tr th {\n",
       "        vertical-align: top;\n",
       "    }\n",
       "\n",
       "    .dataframe thead th {\n",
       "        text-align: right;\n",
       "    }\n",
       "</style>\n",
       "<table border=\"1\" class=\"dataframe\">\n",
       "  <thead>\n",
       "    <tr style=\"text-align: right;\">\n",
       "      <th></th>\n",
       "      <th>work_year</th>\n",
       "      <th>salary</th>\n",
       "      <th>salary_in_usd</th>\n",
       "      <th>remote_ratio</th>\n",
       "    </tr>\n",
       "  </thead>\n",
       "  <tbody>\n",
       "    <tr>\n",
       "      <th>count</th>\n",
       "      <td>57194.000000</td>\n",
       "      <td>5.719400e+04</td>\n",
       "      <td>57194.000000</td>\n",
       "      <td>57194.000000</td>\n",
       "    </tr>\n",
       "    <tr>\n",
       "      <th>mean</th>\n",
       "      <td>2023.776305</td>\n",
       "      <td>1.641818e+05</td>\n",
       "      <td>159223.565829</td>\n",
       "      <td>22.211246</td>\n",
       "    </tr>\n",
       "    <tr>\n",
       "      <th>std</th>\n",
       "      <td>0.519883</td>\n",
       "      <td>2.060327e+05</td>\n",
       "      <td>72155.164297</td>\n",
       "      <td>41.424262</td>\n",
       "    </tr>\n",
       "    <tr>\n",
       "      <th>min</th>\n",
       "      <td>2020.000000</td>\n",
       "      <td>1.400000e+04</td>\n",
       "      <td>15000.000000</td>\n",
       "      <td>0.000000</td>\n",
       "    </tr>\n",
       "    <tr>\n",
       "      <th>25%</th>\n",
       "      <td>2024.000000</td>\n",
       "      <td>1.094000e+05</td>\n",
       "      <td>109300.000000</td>\n",
       "      <td>0.000000</td>\n",
       "    </tr>\n",
       "    <tr>\n",
       "      <th>50%</th>\n",
       "      <td>2024.000000</td>\n",
       "      <td>1.495520e+05</td>\n",
       "      <td>149040.000000</td>\n",
       "      <td>0.000000</td>\n",
       "    </tr>\n",
       "    <tr>\n",
       "      <th>75%</th>\n",
       "      <td>2024.000000</td>\n",
       "      <td>2.000000e+05</td>\n",
       "      <td>200000.000000</td>\n",
       "      <td>0.000000</td>\n",
       "    </tr>\n",
       "    <tr>\n",
       "      <th>max</th>\n",
       "      <td>2024.000000</td>\n",
       "      <td>3.040000e+07</td>\n",
       "      <td>800000.000000</td>\n",
       "      <td>100.000000</td>\n",
       "    </tr>\n",
       "  </tbody>\n",
       "</table>\n",
       "</div>"
      ],
      "text/plain": [
       "          work_year        salary  salary_in_usd  remote_ratio\n",
       "count  57194.000000  5.719400e+04   57194.000000  57194.000000\n",
       "mean    2023.776305  1.641818e+05  159223.565829     22.211246\n",
       "std        0.519883  2.060327e+05   72155.164297     41.424262\n",
       "min     2020.000000  1.400000e+04   15000.000000      0.000000\n",
       "25%     2024.000000  1.094000e+05  109300.000000      0.000000\n",
       "50%     2024.000000  1.495520e+05  149040.000000      0.000000\n",
       "75%     2024.000000  2.000000e+05  200000.000000      0.000000\n",
       "max     2024.000000  3.040000e+07  800000.000000    100.000000"
      ]
     },
     "execution_count": 6,
     "metadata": {},
     "output_type": "execute_result"
    }
   ],
   "source": [
    "salaries_df.describe()"
   ]
  },
  {
   "cell_type": "markdown",
   "id": "f52fb8dc-8292-4f42-a22f-7795ce702173",
   "metadata": {},
   "source": [
    "### 📌 Findings:  \n",
    "- 57194 rows, 11 Columns\n",
    "- Data Types correct and do not need fixing\n",
    "- Intial assumption going forward that data is clean due to nature of project (In real world ideally should perform EDA on each column's distribution of values)\n",
    "  "
   ]
  },
  {
   "cell_type": "markdown",
   "id": "4c0a70ff-3ad7-4d72-aae9-68fa656da60f",
   "metadata": {
    "executionCancelledAt": null,
    "executionTime": 15,
    "lastExecutedAt": 1740859168285,
    "lastExecutedByKernel": "23ae88c8-74e7-4016-b822-e6d2f34318d4",
    "lastScheduledRunId": null,
    "lastSuccessfullyExecutedCode": "salaries_df.job_title.unique()"
   },
   "source": [
    "## 4. Analysis Results"
   ]
  },
  {
   "cell_type": "markdown",
   "id": "701c31b9-2ce9-44c9-b478-c5bbd693b08f",
   "metadata": {},
   "source": [
    "### 4.1 How many records are in the dataset, and what is the range of years covered?"
   ]
  },
  {
   "cell_type": "code",
   "execution_count": 10,
   "id": "8db2d34e-554d-43f2-9b8a-78e3c0151a69",
   "metadata": {},
   "outputs": [],
   "source": [
    "# Get and store total records using shape function\n",
    "total_records = salaries_df.shape[0]\n",
    "\n",
    "# Get statistics related to range of years\n",
    "min_year = salaries_df.work_year.min()\n",
    "max_year = salaries_df.work_year.max()\n",
    "year_range = max_year - min_year"
   ]
  },
  {
   "cell_type": "code",
   "execution_count": 11,
   "id": "1c13c712-ca70-47bc-83ff-a12189ef0838",
   "metadata": {
    "scrolled": true
   },
   "outputs": [
    {
     "data": {
      "text/markdown": [
       "\n",
       "#### 📌 Findings:  \n",
       "- There are **57194** records in the dataset\n",
       "- The range of years covered is **4** from **2020 - 2024**\n"
      ],
      "text/plain": [
       "<IPython.core.display.Markdown object>"
      ]
     },
     "metadata": {},
     "output_type": "display_data"
    }
   ],
   "source": [
    "analysis_text = f\"\"\"\n",
    "#### 📌 Findings:  \n",
    "- There are **{total_records}** records in the dataset\n",
    "- The range of years covered is **{year_range}** from **{min_year} - {max_year}**\n",
    "\"\"\"\n",
    "display(Markdown(analysis_text))"
   ]
  },
  {
   "cell_type": "markdown",
   "id": "ce843d7b-520c-42fa-b67f-209df0aa5785",
   "metadata": {},
   "source": [
    "### 4.2 What is the average salary (in USD) for Data Scientists and Data Engineers? Which role earns more on average?"
   ]
  },
  {
   "cell_type": "code",
   "execution_count": 198,
   "id": "ff3865fb-62bd-4e23-966e-2443f35e98a7",
   "metadata": {},
   "outputs": [
    {
     "data": {
      "text/html": [
       "<div>\n",
       "<style scoped>\n",
       "    .dataframe tbody tr th:only-of-type {\n",
       "        vertical-align: middle;\n",
       "    }\n",
       "\n",
       "    .dataframe tbody tr th {\n",
       "        vertical-align: top;\n",
       "    }\n",
       "\n",
       "    .dataframe thead th {\n",
       "        text-align: right;\n",
       "    }\n",
       "</style>\n",
       "<table border=\"1\" class=\"dataframe\">\n",
       "  <thead>\n",
       "    <tr style=\"text-align: right;\">\n",
       "      <th></th>\n",
       "      <th>job_title</th>\n",
       "      <th>mean_salary</th>\n",
       "      <th>median_salary</th>\n",
       "      <th>record_count</th>\n",
       "    </tr>\n",
       "  </thead>\n",
       "  <tbody>\n",
       "    <tr>\n",
       "      <th>0</th>\n",
       "      <td>Data Engineer</td>\n",
       "      <td>149315.004391</td>\n",
       "      <td>140000.0</td>\n",
       "      <td>7970</td>\n",
       "    </tr>\n",
       "    <tr>\n",
       "      <th>1</th>\n",
       "      <td>Data Scientist</td>\n",
       "      <td>159397.074181</td>\n",
       "      <td>154660.0</td>\n",
       "      <td>9706</td>\n",
       "    </tr>\n",
       "  </tbody>\n",
       "</table>\n",
       "</div>"
      ],
      "text/plain": [
       "        job_title    mean_salary  median_salary  record_count\n",
       "0   Data Engineer  149315.004391       140000.0          7970\n",
       "1  Data Scientist  159397.074181       154660.0          9706"
      ]
     },
     "execution_count": 198,
     "metadata": {},
     "output_type": "execute_result"
    }
   ],
   "source": [
    "# Quick Method: Matching \"Data Scientist\" and \"Data Engineers\" to job titles with exact match\n",
    "ds_de_filter = (salaries_df[\"job_title\"] == \"Data Scientist\") | (salaries_df[\"job_title\"] == \"Data Engineer\")\n",
    "\n",
    "# Create df using filter narrowing to only DS and DE \n",
    "ds_de = salaries_df[ds_de_filter]\n",
    "\n",
    "# Aggregate average salary in USD data \n",
    "ds_de_agg = ds_de.groupby(\"job_title\").agg(\n",
    "    mean_salary =(\"salary_in_usd\", \"mean\"), \n",
    "    median_salary=(\"salary_in_usd\",\"median\"),\n",
    "    record_count=(\"salary_in_usd\",\"count\")).reset_index()\n",
    "ds_de_agg\n"
   ]
  },
  {
   "cell_type": "code",
   "execution_count": 227,
   "id": "c4830390-05c5-47b1-b756-8ede9cd04bf7",
   "metadata": {},
   "outputs": [
    {
     "data": {
      "text/markdown": [
       "\n",
       "**Data Scientist** has a higher mean income of 159397.0\n",
       "\n",
       "**Data Scientist** has a higher median income of 154660.0\n"
      ],
      "text/plain": [
       "<IPython.core.display.Markdown object>"
      ]
     },
     "metadata": {},
     "output_type": "display_data"
    }
   ],
   "source": [
    "de_ds_earns_more_mean = ds_de_agg.loc[ds_de_agg[\"mean_salary\"].idxmax(), \"job_title\"]\n",
    "de_ds_earns_more_median = ds_de_agg.loc[ds_de_agg[\"median_salary\"].idxmax(), \"job_title\"]\n",
    "\n",
    "display(Markdown(f\"\"\"\n",
    "**{de_ds_earns_more_mean}** has a higher mean income of {(ds_de_agg.loc[ds_de_agg[\"mean_salary\"].idxmax(), \"mean_salary\"]).round(0)} \n",
    "\n",
    "**{de_ds_earns_more_median}** has a higher median income of {(ds_de_agg.loc[ds_de_agg[\"mean_salary\"].idxmax(), \"median_salary\"]).round(0)}\n",
    "\"\"\"))\n"
   ]
  },
  {
   "cell_type": "markdown",
   "id": "3479824c-5891-4c27-a35c-762b75cd8fea",
   "metadata": {},
   "source": [
    "Quick Method very literal and does not account for roles named slightly differently that are technically still Data Scientists or Data Engineers\n"
   ]
  },
  {
   "cell_type": "code",
   "execution_count": 267,
   "id": "2e5bc115-3982-4cf7-955b-d3713872c114",
   "metadata": {},
   "outputs": [],
   "source": [
    "# Sample dataset\n",
    "salaries = pd.DataFrame(salaries_df.job_title.unique())\n",
    "salaries\n",
    "# Define job categories\n",
    "categories = [\"Data Scientist\", \"Data Engineer\",\"Data Analyst\"]\n",
    "\n",
    "def fuzzy_classify(title):\n",
    "    match = process.extractOne(title, categories)\n",
    "    \n",
    "    # Handle cases where no match is found\n",
    "    if match is None:\n",
    "        return \"Other\"\n",
    "    \n",
    "    matched_title, score = match  # Extract match and similarity score\n",
    "    return matched_title if score > 80 else \"Other\"\n",
    "\n",
    "# Apply function safely\n",
    "salaries[\"job_category_fuzzy\"] = salaries[0].apply(fuzzy_classify)\n",
    "\n",
    "salaries.to_csv('outback.csv', index=False)  \n",
    "\n"
   ]
  },
  {
   "cell_type": "code",
   "execution_count": 251,
   "id": "e57500ed-f8a2-4987-ac62-2de4d7b0cb47",
   "metadata": {},
   "outputs": [
    {
     "data": {
      "text/html": [
       "<div>\n",
       "<style scoped>\n",
       "    .dataframe tbody tr th:only-of-type {\n",
       "        vertical-align: middle;\n",
       "    }\n",
       "\n",
       "    .dataframe tbody tr th {\n",
       "        vertical-align: top;\n",
       "    }\n",
       "\n",
       "    .dataframe thead th {\n",
       "        text-align: right;\n",
       "    }\n",
       "</style>\n",
       "<table border=\"1\" class=\"dataframe\">\n",
       "  <thead>\n",
       "    <tr style=\"text-align: right;\">\n",
       "      <th></th>\n",
       "      <th>0</th>\n",
       "    </tr>\n",
       "  </thead>\n",
       "  <tbody>\n",
       "    <tr>\n",
       "      <th>0</th>\n",
       "      <td>Developer</td>\n",
       "    </tr>\n",
       "    <tr>\n",
       "      <th>1</th>\n",
       "      <td>Research Scientist</td>\n",
       "    </tr>\n",
       "    <tr>\n",
       "      <th>2</th>\n",
       "      <td>Software Engineer</td>\n",
       "    </tr>\n",
       "    <tr>\n",
       "      <th>3</th>\n",
       "      <td>Solution Architect</td>\n",
       "    </tr>\n",
       "    <tr>\n",
       "      <th>4</th>\n",
       "      <td>Manager</td>\n",
       "    </tr>\n",
       "    <tr>\n",
       "      <th>...</th>\n",
       "      <td>...</td>\n",
       "    </tr>\n",
       "    <tr>\n",
       "      <th>248</th>\n",
       "      <td>Principal Data Architect</td>\n",
       "    </tr>\n",
       "    <tr>\n",
       "      <th>249</th>\n",
       "      <td>Data Analytics Engineer</td>\n",
       "    </tr>\n",
       "    <tr>\n",
       "      <th>250</th>\n",
       "      <td>Cloud Data Architect</td>\n",
       "    </tr>\n",
       "    <tr>\n",
       "      <th>251</th>\n",
       "      <td>Lead Data Engineer</td>\n",
       "    </tr>\n",
       "    <tr>\n",
       "      <th>252</th>\n",
       "      <td>Principal Data Analyst</td>\n",
       "    </tr>\n",
       "  </tbody>\n",
       "</table>\n",
       "<p>253 rows × 1 columns</p>\n",
       "</div>"
      ],
      "text/plain": [
       "                            0\n",
       "0                   Developer\n",
       "1          Research Scientist\n",
       "2           Software Engineer\n",
       "3          Solution Architect\n",
       "4                     Manager\n",
       "..                        ...\n",
       "248  Principal Data Architect\n",
       "249   Data Analytics Engineer\n",
       "250      Cloud Data Architect\n",
       "251        Lead Data Engineer\n",
       "252    Principal Data Analyst\n",
       "\n",
       "[253 rows x 1 columns]"
      ]
     },
     "execution_count": 251,
     "metadata": {},
     "output_type": "execute_result"
    }
   ],
   "source": [
    "salaries"
   ]
  },
  {
   "cell_type": "markdown",
   "id": "2bec7335-0c7f-490e-a1c9-01458e70e4e8",
   "metadata": {},
   "source": [
    "### 4.3 How many full-time employees based in the US work 100% remotely?"
   ]
  },
  {
   "cell_type": "code",
   "execution_count": 14,
   "id": "3a2dbf14-bf83-4937-8cc8-3c514033f8b9",
   "metadata": {},
   "outputs": [
    {
     "data": {
      "text/markdown": [
       "\n",
       "**11125** is the total number of **Full-Time, US-Based, Remote employees** in the dataset.  \n",
       "\n",
       "However, the dataset records **each employee per year**, so we need to analyze it **by year** instead.  \n",
       "Otherwise, a single employee who appears in multiple years would be **overcounted**.\n"
      ],
      "text/plain": [
       "<IPython.core.display.Markdown object>"
      ]
     },
     "metadata": {},
     "output_type": "display_data"
    }
   ],
   "source": [
    "# Define conditions for 1) FT Employees, 2) Based in US, 3) Work 100% Remotely\n",
    "conditions = (salaries_df.employment_type == 'FT') & (salaries_df.employee_residence == 'US') & (salaries_df.remote_ratio == 100)\n",
    "\n",
    "# Sum total employees that meet condition\n",
    "employees_ft_us_remote = conditions.sum()\n",
    "\n",
    "display(Markdown(f\"\"\"\n",
    "**{employees_ft_us_remote}** is the total number of **Full-Time, US-Based, Remote employees** in the dataset.  \n",
    "\n",
    "However, the dataset records **each employee per year**, so we need to analyze it **by year** instead.  \n",
    "Otherwise, a single employee who appears in multiple years would be **overcounted**.\n",
    "\"\"\"))"
   ]
  },
  {
   "cell_type": "code",
   "execution_count": 15,
   "id": "87fea29e-9021-4eb0-b0f0-ae8e3f80f5f1",
   "metadata": {},
   "outputs": [
    {
     "data": {
      "text/html": [
       "<div>\n",
       "<style scoped>\n",
       "    .dataframe tbody tr th:only-of-type {\n",
       "        vertical-align: middle;\n",
       "    }\n",
       "\n",
       "    .dataframe tbody tr th {\n",
       "        vertical-align: top;\n",
       "    }\n",
       "\n",
       "    .dataframe thead th {\n",
       "        text-align: right;\n",
       "    }\n",
       "</style>\n",
       "<table border=\"1\" class=\"dataframe\">\n",
       "  <thead>\n",
       "    <tr style=\"text-align: right;\">\n",
       "      <th></th>\n",
       "      <th>work_year</th>\n",
       "      <th>total_ft_us_remote</th>\n",
       "      <th>employees_surveyed</th>\n",
       "      <th>pct_remote</th>\n",
       "    </tr>\n",
       "  </thead>\n",
       "  <tbody>\n",
       "    <tr>\n",
       "      <th>0</th>\n",
       "      <td>2020</td>\n",
       "      <td>20</td>\n",
       "      <td>75</td>\n",
       "      <td>0.266667</td>\n",
       "    </tr>\n",
       "    <tr>\n",
       "      <th>1</th>\n",
       "      <td>2021</td>\n",
       "      <td>59</td>\n",
       "      <td>218</td>\n",
       "      <td>0.270642</td>\n",
       "    </tr>\n",
       "    <tr>\n",
       "      <th>2</th>\n",
       "      <td>2022</td>\n",
       "      <td>710</td>\n",
       "      <td>1659</td>\n",
       "      <td>0.427969</td>\n",
       "    </tr>\n",
       "    <tr>\n",
       "      <th>3</th>\n",
       "      <td>2023</td>\n",
       "      <td>2296</td>\n",
       "      <td>8522</td>\n",
       "      <td>0.269420</td>\n",
       "    </tr>\n",
       "    <tr>\n",
       "      <th>4</th>\n",
       "      <td>2024</td>\n",
       "      <td>8040</td>\n",
       "      <td>46720</td>\n",
       "      <td>0.172089</td>\n",
       "    </tr>\n",
       "  </tbody>\n",
       "</table>\n",
       "</div>"
      ],
      "text/plain": [
       "   work_year  total_ft_us_remote  employees_surveyed  pct_remote\n",
       "0       2020                  20                  75    0.266667\n",
       "1       2021                  59                 218    0.270642\n",
       "2       2022                 710                1659    0.427969\n",
       "3       2023                2296                8522    0.269420\n",
       "4       2024                8040               46720    0.172089"
      ]
     },
     "execution_count": 15,
     "metadata": {},
     "output_type": "execute_result"
    }
   ],
   "source": [
    "# Add boolean column to salaries_df to see which rows meet conditions\n",
    "salaries_df[\"ft_us_remote\"] = conditions\n",
    "\n",
    "# Creates new df showing employees that meet conditions in each year\n",
    "yearly_ft_us_remote = salaries_df.groupby(\"work_year\").agg(\n",
    "    total_ft_us_remote =(\"ft_us_remote\", \"sum\"), \n",
    "    employees_surveyed=(\"ft_us_remote\",\"count\"),).reset_index()\n",
    "\n",
    "yearly_ft_us_remote[\"pct_remote\"] = yearly_ft_us_remote.total_ft_us_remote / yearly_ft_us_remote.employees_surveyed\n",
    "# Markdown for reporting later\n",
    "md = \"```\\n\" + yearly_ft_us_remote.to_markdown(index=False) + \"\\n```\"\n",
    "\n",
    "yearly_ft_us_remote"
   ]
  },
  {
   "cell_type": "code",
   "execution_count": 16,
   "id": "e27fd495-fdbb-4d33-aee8-712aba5150ce",
   "metadata": {},
   "outputs": [],
   "source": [
    "# Get total_ft_us_remote value for the latest year \n",
    "latest_year_ft_us_remote = yearly_ft_us_remote[yearly_ft_us_remote[\"work_year\"] == max_year].iloc[0][\"total_ft_us_remote\"]"
   ]
  },
  {
   "cell_type": "code",
   "execution_count": 17,
   "id": "cf2fa51a-4212-4d39-8b69-cd4bd50bad7a",
   "metadata": {
    "executionCancelledAt": null,
    "executionTime": 49,
    "lastExecutedAt": 1740809840958,
    "lastExecutedByKernel": "fab21783-d0f3-4b1e-be68-2cd58a41d203",
    "lastScheduledRunId": null,
    "lastSuccessfullyExecutedCode": "# Number of records in the dataset\nnum_records = len(salaries_df)\n\n# Range of years covered\nyears_range = (salaries_df['work_year'].min(), salaries_df['work_year'].max())\nnum_records, years_range"
   },
   "outputs": [
    {
     "data": {
      "text/markdown": [
       "\n",
       "#### 📌 Findings:  \n",
       "- In 2024 (most recent year in dataset) there were **8040.0** full-time employees  based in the US working 100% remotely\n",
       "- While Full Time US-Based Remote employees have risen, they have fallen in terms of proportion to number of overall surveyed employees\n"
      ],
      "text/plain": [
       "<IPython.core.display.Markdown object>"
      ]
     },
     "metadata": {},
     "output_type": "display_data"
    },
    {
     "data": {
      "image/png": "[encoded data removed]",
      "text/plain": [
       "<Figure size 1000x500 with 1 Axes>"
      ]
     },
     "metadata": {},
     "output_type": "display_data"
    },
    {
     "data": {
      "text/markdown": [
       "\n",
       "```\n",
       "|   work_year |   total_ft_us_remote |   employees_surveyed |   pct_remote |\n",
       "|------------:|---------------------:|---------------------:|-------------:|\n",
       "|        2020 |                   20 |                   75 |     0.266667 |\n",
       "|        2021 |                   59 |                  218 |     0.270642 |\n",
       "|        2022 |                  710 |                 1659 |     0.427969 |\n",
       "|        2023 |                 2296 |                 8522 |     0.26942  |\n",
       "|        2024 |                 8040 |                46720 |     0.172089 |\n",
       "```\n"
      ],
      "text/plain": [
       "<IPython.core.display.Markdown object>"
      ]
     },
     "metadata": {},
     "output_type": "display_data"
    }
   ],
   "source": [
    "display(Markdown(f\"\"\"\n",
    "#### 📌 Findings:  \n",
    "- In {max_year} (most recent year in dataset) there were **{latest_year_ft_us_remote}** full-time employees  based in the US working 100% remotely\n",
    "- While Full Time US-Based Remote employees have risen, they have fallen in terms of proportion to number of overall surveyed employees\n",
    "\"\"\"\n",
    "                ))\n",
    "plt.figure(figsize=(10, 5))\n",
    "plt.plot(\n",
    "    yearly_ft_us_remote.work_year, \n",
    "    yearly_ft_us_remote.total_ft_us_remote, \n",
    "    marker='x', linestyle='-', linewidth=2, label=\"FT US 100% Remote Employees\"\n",
    ")\n",
    "plt.plot(\n",
    "    yearly_ft_us_remote.work_year, \n",
    "    yearly_ft_us_remote.employees_surveyed, \n",
    "    marker='x', linestyle='-', linewidth=2, label=\"Total Surveyed\"\n",
    ")\n",
    "\n",
    "# Labels and Title\n",
    "plt.xlabel(\"Year\")\n",
    "plt.ylabel(\"Total FT US Remote Employees\")\n",
    "plt.title(\"Growth of Full-Time US-Based Remote Employees (Yearly Trend)\")\n",
    "\n",
    "# Show Data Points on the Graph\n",
    "for i, value in enumerate(yearly_ft_us_remote.total_ft_us_remote):\n",
    "    plt.text(yearly_ft_us_remote.work_year.iloc[i], value, f\"{value}\", ha=\"right\", va=\"bottom\")\n",
    "for i, value in enumerate(yearly_ft_us_remote.employees_surveyed):\n",
    "    plt.text(yearly_ft_us_remote.work_year.iloc[i], value, f\"{value}\", ha=\"right\", va=\"bottom\")\n",
    "\n",
    "# Grid and Legend\n",
    "plt.grid(True, linestyle='-', alpha=0.1)\n",
    "plt.legend()\n",
    "\n",
    "# Show the plot\n",
    "plt.show()\n",
    "\n",
    "display(Markdown(f\"\"\"\n",
    "{md}\n",
    "\"\"\"))"
   ]
  },
  {
   "cell_type": "code",
   "execution_count": 18,
   "id": "750036f6-5313-4c43-915a-92092b0746fe",
   "metadata": {},
   "outputs": [],
   "source": [
    "# Create a bar chart displaying the top 5 job titles with the highest average salary (in USD). - S\n",
    "# Compare the average salaries for employees working remotely 100%, 50%, and 0%. What patterns or trends do you observe? - S\n",
    "# Visualise the salary distribution (in USD) across company sizes (S, M, L). Which company size offers the highest average salary? - S"
   ]
  },
  {
   "cell_type": "code",
   "execution_count": null,
   "id": "3417662f-2e8d-44c0-9d4e-49906fd349af",
   "metadata": {},
   "outputs": [],
   "source": []
  },
  {
   "cell_type": "code",
   "execution_count": null,
   "id": "925b0c91-93fe-4c24-941c-fa6edd18146d",
   "metadata": {},
   "outputs": [],
   "source": []
  },
  {
   "cell_type": "code",
   "execution_count": 99,
   "id": "41251af9-c38b-4f22-bf78-c2ace76ce7e4",
   "metadata": {
    "editable": true,
    "slideshow": {
     "slide_type": ""
    },
    "tags": []
   },
   "outputs": [
    {
     "data": {
      "text/html": [
       "<div>\n",
       "<style scoped>\n",
       "    .dataframe tbody tr th:only-of-type {\n",
       "        vertical-align: middle;\n",
       "    }\n",
       "\n",
       "    .dataframe tbody tr th {\n",
       "        vertical-align: top;\n",
       "    }\n",
       "\n",
       "    .dataframe thead th {\n",
       "        text-align: right;\n",
       "    }\n",
       "</style>\n",
       "<table border=\"1\" class=\"dataframe\">\n",
       "  <thead>\n",
       "    <tr style=\"text-align: right;\">\n",
       "      <th></th>\n",
       "      <th>job_title</th>\n",
       "      <th>count_jobs</th>\n",
       "      <th>avg</th>\n",
       "    </tr>\n",
       "  </thead>\n",
       "  <tbody>\n",
       "    <tr>\n",
       "      <th>23</th>\n",
       "      <td>Analytics Engineering Manager</td>\n",
       "      <td>1</td>\n",
       "      <td>399880.000000</td>\n",
       "    </tr>\n",
       "    <tr>\n",
       "      <th>126</th>\n",
       "      <td>Data Science Tech Lead</td>\n",
       "      <td>1</td>\n",
       "      <td>375000.000000</td>\n",
       "    </tr>\n",
       "    <tr>\n",
       "      <th>25</th>\n",
       "      <td>Applied AI ML Lead</td>\n",
       "      <td>2</td>\n",
       "      <td>292500.000000</td>\n",
       "    </tr>\n",
       "    <tr>\n",
       "      <th>162</th>\n",
       "      <td>Head of Machine Learning</td>\n",
       "      <td>9</td>\n",
       "      <td>288701.000000</td>\n",
       "    </tr>\n",
       "    <tr>\n",
       "      <th>152</th>\n",
       "      <td>Engineering Manager</td>\n",
       "      <td>268</td>\n",
       "      <td>262525.615672</td>\n",
       "    </tr>\n",
       "  </tbody>\n",
       "</table>\n",
       "</div>"
      ],
      "text/plain": [
       "                         job_title  count_jobs            avg\n",
       "23   Analytics Engineering Manager           1  399880.000000\n",
       "126         Data Science Tech Lead           1  375000.000000\n",
       "25              Applied AI ML Lead           2  292500.000000\n",
       "162       Head of Machine Learning           9  288701.000000\n",
       "152            Engineering Manager         268  262525.615672"
      ]
     },
     "execution_count": 99,
     "metadata": {},
     "output_type": "execute_result"
    }
   ],
   "source": [
    "salaries_df\n",
    "df = salaries_df.groupby(\"job_title\").agg(\n",
    "    count_jobs=(\"ft_us_remote\", \"count\"),\n",
    "    avg=('salary_in_usd',\"mean\")\n",
    "\n",
    ").reset_index()\n",
    "df.sort_values(by=['avg'], ascending=False).head(5)"
   ]
  },
  {
   "cell_type": "code",
   "execution_count": 103,
   "id": "38a75cb0-86f6-4f42-8e14-acbc7b001ab5",
   "metadata": {},
   "outputs": [
    {
     "data": {
      "text/html": [
       "<div>\n",
       "<style scoped>\n",
       "    .dataframe tbody tr th:only-of-type {\n",
       "        vertical-align: middle;\n",
       "    }\n",
       "\n",
       "    .dataframe tbody tr th {\n",
       "        vertical-align: top;\n",
       "    }\n",
       "\n",
       "    .dataframe thead th {\n",
       "        text-align: right;\n",
       "    }\n",
       "</style>\n",
       "<table border=\"1\" class=\"dataframe\">\n",
       "  <thead>\n",
       "    <tr style=\"text-align: right;\">\n",
       "      <th></th>\n",
       "      <th>job_title</th>\n",
       "      <th>count_jobs</th>\n",
       "      <th>avg</th>\n",
       "    </tr>\n",
       "  </thead>\n",
       "  <tbody>\n",
       "    <tr>\n",
       "      <th>23</th>\n",
       "      <td>Analytics Engineering Manager</td>\n",
       "      <td>1</td>\n",
       "      <td>399880.0</td>\n",
       "    </tr>\n",
       "    <tr>\n",
       "      <th>126</th>\n",
       "      <td>Data Science Tech Lead</td>\n",
       "      <td>1</td>\n",
       "      <td>375000.0</td>\n",
       "    </tr>\n",
       "    <tr>\n",
       "      <th>162</th>\n",
       "      <td>Head of Machine Learning</td>\n",
       "      <td>9</td>\n",
       "      <td>300000.0</td>\n",
       "    </tr>\n",
       "    <tr>\n",
       "      <th>25</th>\n",
       "      <td>Applied AI ML Lead</td>\n",
       "      <td>2</td>\n",
       "      <td>292500.0</td>\n",
       "    </tr>\n",
       "    <tr>\n",
       "      <th>181</th>\n",
       "      <td>Machine Learning Performance Engineer</td>\n",
       "      <td>2</td>\n",
       "      <td>262500.0</td>\n",
       "    </tr>\n",
       "  </tbody>\n",
       "</table>\n",
       "</div>"
      ],
      "text/plain": [
       "                                 job_title  count_jobs       avg\n",
       "23           Analytics Engineering Manager           1  399880.0\n",
       "126                 Data Science Tech Lead           1  375000.0\n",
       "162               Head of Machine Learning           9  300000.0\n",
       "25                      Applied AI ML Lead           2  292500.0\n",
       "181  Machine Learning Performance Engineer           2  262500.0"
      ]
     },
     "execution_count": 103,
     "metadata": {},
     "output_type": "execute_result"
    }
   ],
   "source": [
    "salaries_df\n",
    "df = salaries_df.groupby(\"job_title\").agg(\n",
    "    count_jobs=(\"ft_us_remote\", \"count\"),\n",
    "    avg=('salary_in_usd',\"median\")\n",
    "\n",
    ").reset_index()\n",
    "df.sort_values(by=['avg'], ascending=False).head(5)"
   ]
  },
  {
   "cell_type": "code",
   "execution_count": 111,
   "id": "24626b4d-2f39-4602-88a0-7196fd37243d",
   "metadata": {},
   "outputs": [
    {
     "data": {
      "text/html": [
       "<div>\n",
       "<style scoped>\n",
       "    .dataframe tbody tr th:only-of-type {\n",
       "        vertical-align: middle;\n",
       "    }\n",
       "\n",
       "    .dataframe tbody tr th {\n",
       "        vertical-align: top;\n",
       "    }\n",
       "\n",
       "    .dataframe thead th {\n",
       "        text-align: right;\n",
       "    }\n",
       "</style>\n",
       "<table border=\"1\" class=\"dataframe\">\n",
       "  <thead>\n",
       "    <tr style=\"text-align: right;\">\n",
       "      <th></th>\n",
       "      <th>remote_ratio</th>\n",
       "      <th>count_jobs</th>\n",
       "      <th>avg</th>\n",
       "    </tr>\n",
       "  </thead>\n",
       "  <tbody>\n",
       "    <tr>\n",
       "      <th>0</th>\n",
       "      <td>0</td>\n",
       "      <td>44355</td>\n",
       "      <td>162401.766836</td>\n",
       "    </tr>\n",
       "    <tr>\n",
       "      <th>2</th>\n",
       "      <td>100</td>\n",
       "      <td>12568</td>\n",
       "      <td>149675.074395</td>\n",
       "    </tr>\n",
       "    <tr>\n",
       "      <th>1</th>\n",
       "      <td>50</td>\n",
       "      <td>271</td>\n",
       "      <td>81866.867159</td>\n",
       "    </tr>\n",
       "  </tbody>\n",
       "</table>\n",
       "</div>"
      ],
      "text/plain": [
       "   remote_ratio  count_jobs            avg\n",
       "0             0       44355  162401.766836\n",
       "2           100       12568  149675.074395\n",
       "1            50         271   81866.867159"
      ]
     },
     "execution_count": 111,
     "metadata": {},
     "output_type": "execute_result"
    }
   ],
   "source": [
    "salaries_df\n",
    "df = salaries_df.groupby(\"remote_ratio\").agg(\n",
    "    count_jobs=(\"ft_us_remote\", \"count\"),\n",
    "    avg=('salary_in_usd',\"mean\"),\n",
    "\n",
    ").reset_index()\n",
    "df.sort_values(by=['avg'], ascending=False).head(5)"
   ]
  },
  {
   "cell_type": "code",
   "execution_count": null,
   "id": "9fed55b8-09d6-4ab5-8c29-0a27c3fe732c",
   "metadata": {},
   "outputs": [],
   "source": [
    "# Visualise the salary distribution (in USD) across company sizes (S, M, L). Which company size offers the highest average salary? - S\n",
    "salaries_df\n",
    "df = salaries_df.groupby(\"remote_ratio\").agg(\n",
    "    count_jobs=(\"ft_us_remote\", \"count\"),\n",
    "    avg=('salary_in_usd',\"mean\"),\n",
    "\n",
    ").reset_index()\n",
    "df.sort_values(by=['avg'], ascending=False).head(5)"
   ]
  },
  {
   "cell_type": "code",
   "execution_count": 19,
   "id": "595aef33-6bd4-4ca2-8719-fcd75b2b161d",
   "metadata": {},
   "outputs": [],
   "source": [
    "# Analyse how factors such as country, experience level, and remote ratio impact salaries for Data Analysts, \n",
    "# Data Scientists, and Machine Learning Engineers. In which conditions do professionals achieve the highest salaries?\n",
    "\n",
    "# Develop a predictive model to estimate an employee’s salary (in USD) using experience level, \n",
    "# company location, and remote ratio. Which features are the strongest predictors of salary?\n",
    "\n",
    "# Expand your model by incorporating additional features, such as company size and employment type. \n",
    "# Evaluate its performance, what improves, and what doesn’t? Finally, propose new features to make future salary predictions even more accurate future salary predictions even more accurate."
   ]
  },
  {
   "cell_type": "code",
   "execution_count": null,
   "id": "4fc1d77c-d286-4bf3-83fb-1328f2b4e75e",
   "metadata": {},
   "outputs": [],
   "source": []
  },
  {
   "cell_type": "code",
   "execution_count": null,
   "id": "f39f9940-1023-4b26-8d73-f9b01d091437",
   "metadata": {},
   "outputs": [],
   "source": []
  },
  {
   "cell_type": "code",
   "execution_count": null,
   "id": "8e5c1b45-a63f-4e7c-9295-216861b9df12",
   "metadata": {},
   "outputs": [],
   "source": []
  }
 ],
 "metadata": {
  "editor": "DataLab",
  "kernelspec": {
   "display_name": "Python [conda env:base] *",
   "language": "python",
   "name": "conda-base-py"
  },
  "language_info": {
   "codemirror_mode": {
    "name": "ipython",
    "version": 3
   },
   "file_extension": ".py",
   "mimetype": "text/x-python",
   "name": "python",
   "nbconvert_exporter": "python",
   "pygments_lexer": "ipython3",
   "version": "3.12.7"
  }
 },
 "nbformat": 4,
 "nbformat_minor": 5
}
